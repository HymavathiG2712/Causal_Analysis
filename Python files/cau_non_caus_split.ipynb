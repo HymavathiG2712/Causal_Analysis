{
 "cells": [
  {
   "cell_type": "code",
   "execution_count": 1,
   "id": "32d8c1ae-b99d-4ae7-a17a-bfd9844cc8ef",
   "metadata": {},
   "outputs": [],
   "source": [
    "# reading the CSV's and splitting into 70,30 - causal and non-causal\n",
    "# combining train of causal& non-causal and test of causal& non-causal\n",
    "\n",
    "import pandas as pd\n",
    "from sklearn.model_selection import train_test_split\n",
    "\n",
    "causal_df = pd.read_csv('causal_df.csv')\n",
    "non_causal_df = pd.read_csv('non_causal_df.csv')\n",
    "\n",
    "causal_train, causal_test = train_test_split(causal_df, test_size=0.3, random_state=42)\n",
    "non_causal_train, non_causal_test = train_test_split(non_causal_df, test_size=0.3, random_state=42)\n",
    "\n",
    "train_dataset = pd.concat([causal_train, non_causal_train], ignore_index=True)\n",
    "test_dataset = pd.concat([causal_test, non_causal_test], ignore_index=True)\n",
    "\n",
    "train_dataset = train_dataset.sample(frac=1).reset_index(drop=True)\n",
    "test_dataset = test_dataset.sample(frac=1).reset_index(drop=True)"
   ]
  },
  {
   "cell_type": "code",
   "execution_count": 2,
   "id": "05734f20-7a62-4871-8757-63d6f5d857c6",
   "metadata": {},
   "outputs": [
    {
     "data": {
      "text/html": [
       "<div>\n",
       "<style scoped>\n",
       "    .dataframe tbody tr th:only-of-type {\n",
       "        vertical-align: middle;\n",
       "    }\n",
       "\n",
       "    .dataframe tbody tr th {\n",
       "        vertical-align: top;\n",
       "    }\n",
       "\n",
       "    .dataframe thead th {\n",
       "        text-align: right;\n",
       "    }\n",
       "</style>\n",
       "<table border=\"1\" class=\"dataframe\">\n",
       "  <thead>\n",
       "    <tr style=\"text-align: right;\">\n",
       "      <th></th>\n",
       "      <th>Unnamed: 0</th>\n",
       "      <th>sentence</th>\n",
       "      <th>causal</th>\n",
       "    </tr>\n",
       "  </thead>\n",
       "  <tbody>\n",
       "    <tr>\n",
       "      <th>0</th>\n",
       "      <td>2549</td>\n",
       "      <td>the cause of death was asthma and old age whic...</td>\n",
       "      <td>1</td>\n",
       "    </tr>\n",
       "    <tr>\n",
       "      <th>1</th>\n",
       "      <td>24648</td>\n",
       "      <td>We report the case of a young HIV seropositive...</td>\n",
       "      <td>0</td>\n",
       "    </tr>\n",
       "    <tr>\n",
       "      <th>2</th>\n",
       "      <td>25116</td>\n",
       "      <td>Ocular examinations revealed intraocular press...</td>\n",
       "      <td>0</td>\n",
       "    </tr>\n",
       "    <tr>\n",
       "      <th>3</th>\n",
       "      <td>13818</td>\n",
       "      <td>It was concluded that ANCA is closely related ...</td>\n",
       "      <td>1</td>\n",
       "    </tr>\n",
       "    <tr>\n",
       "      <th>4</th>\n",
       "      <td>17761</td>\n",
       "      <td>ÊNot a Tesla or BMW, but it does the job.</td>\n",
       "      <td>0</td>\n",
       "    </tr>\n",
       "    <tr>\n",
       "      <th>...</th>\n",
       "      <td>...</td>\n",
       "      <td>...</td>\n",
       "      <td>...</td>\n",
       "    </tr>\n",
       "    <tr>\n",
       "      <th>31659</th>\n",
       "      <td>8581</td>\n",
       "      <td>disinterred and reburied in israel in 1953</td>\n",
       "      <td>0</td>\n",
       "    </tr>\n",
       "    <tr>\n",
       "      <th>31660</th>\n",
       "      <td>27189</td>\n",
       "      <td>We observed an unexpectedly rapid rise in plat...</td>\n",
       "      <td>0</td>\n",
       "    </tr>\n",
       "    <tr>\n",
       "      <th>31661</th>\n",
       "      <td>25760</td>\n",
       "      <td>Laboratory studies yielded substantially incre...</td>\n",
       "      <td>0</td>\n",
       "    </tr>\n",
       "    <tr>\n",
       "      <th>31662</th>\n",
       "      <td>13898</td>\n",
       "      <td>ÊVolatility/PI Stock volatility is a percentag...</td>\n",
       "      <td>0</td>\n",
       "    </tr>\n",
       "    <tr>\n",
       "      <th>31663</th>\n",
       "      <td>13382</td>\n",
       "      <td>ÊPhillip Gast</td>\n",
       "      <td>0</td>\n",
       "    </tr>\n",
       "  </tbody>\n",
       "</table>\n",
       "<p>31664 rows × 3 columns</p>\n",
       "</div>"
      ],
      "text/plain": [
       "       Unnamed: 0                                           sentence  causal\n",
       "0            2549  the cause of death was asthma and old age whic...       1\n",
       "1           24648  We report the case of a young HIV seropositive...       0\n",
       "2           25116  Ocular examinations revealed intraocular press...       0\n",
       "3           13818  It was concluded that ANCA is closely related ...       1\n",
       "4           17761          ÊNot a Tesla or BMW, but it does the job.       0\n",
       "...           ...                                                ...     ...\n",
       "31659        8581         disinterred and reburied in israel in 1953       0\n",
       "31660       27189  We observed an unexpectedly rapid rise in plat...       0\n",
       "31661       25760  Laboratory studies yielded substantially incre...       0\n",
       "31662       13898  ÊVolatility/PI Stock volatility is a percentag...       0\n",
       "31663       13382                                      ÊPhillip Gast       0\n",
       "\n",
       "[31664 rows x 3 columns]"
      ]
     },
     "execution_count": 2,
     "metadata": {},
     "output_type": "execute_result"
    }
   ],
   "source": [
    "train_dataset"
   ]
  },
  {
   "cell_type": "code",
   "execution_count": 3,
   "id": "56b4be64-e1b9-4294-9cdc-0d19fbe2fd00",
   "metadata": {},
   "outputs": [],
   "source": [
    "# Drop the \"Unnamed: 0\" column from the train_dataset\n",
    "train_dataset.drop(\"Unnamed: 0\", axis=1, inplace=True)"
   ]
  },
  {
   "cell_type": "code",
   "execution_count": 4,
   "id": "bccb289d-ab93-4cb5-96ed-2cc56c650478",
   "metadata": {},
   "outputs": [
    {
     "data": {
      "text/html": [
       "<div>\n",
       "<style scoped>\n",
       "    .dataframe tbody tr th:only-of-type {\n",
       "        vertical-align: middle;\n",
       "    }\n",
       "\n",
       "    .dataframe tbody tr th {\n",
       "        vertical-align: top;\n",
       "    }\n",
       "\n",
       "    .dataframe thead th {\n",
       "        text-align: right;\n",
       "    }\n",
       "</style>\n",
       "<table border=\"1\" class=\"dataframe\">\n",
       "  <thead>\n",
       "    <tr style=\"text-align: right;\">\n",
       "      <th></th>\n",
       "      <th>sentence</th>\n",
       "      <th>causal</th>\n",
       "    </tr>\n",
       "  </thead>\n",
       "  <tbody>\n",
       "    <tr>\n",
       "      <th>0</th>\n",
       "      <td>the cause of death was asthma and old age whic...</td>\n",
       "      <td>1</td>\n",
       "    </tr>\n",
       "    <tr>\n",
       "      <th>1</th>\n",
       "      <td>We report the case of a young HIV seropositive...</td>\n",
       "      <td>0</td>\n",
       "    </tr>\n",
       "    <tr>\n",
       "      <th>2</th>\n",
       "      <td>Ocular examinations revealed intraocular press...</td>\n",
       "      <td>0</td>\n",
       "    </tr>\n",
       "    <tr>\n",
       "      <th>3</th>\n",
       "      <td>It was concluded that ANCA is closely related ...</td>\n",
       "      <td>1</td>\n",
       "    </tr>\n",
       "    <tr>\n",
       "      <th>4</th>\n",
       "      <td>ÊNot a Tesla or BMW, but it does the job.</td>\n",
       "      <td>0</td>\n",
       "    </tr>\n",
       "    <tr>\n",
       "      <th>...</th>\n",
       "      <td>...</td>\n",
       "      <td>...</td>\n",
       "    </tr>\n",
       "    <tr>\n",
       "      <th>31659</th>\n",
       "      <td>disinterred and reburied in israel in 1953</td>\n",
       "      <td>0</td>\n",
       "    </tr>\n",
       "    <tr>\n",
       "      <th>31660</th>\n",
       "      <td>We observed an unexpectedly rapid rise in plat...</td>\n",
       "      <td>0</td>\n",
       "    </tr>\n",
       "    <tr>\n",
       "      <th>31661</th>\n",
       "      <td>Laboratory studies yielded substantially incre...</td>\n",
       "      <td>0</td>\n",
       "    </tr>\n",
       "    <tr>\n",
       "      <th>31662</th>\n",
       "      <td>ÊVolatility/PI Stock volatility is a percentag...</td>\n",
       "      <td>0</td>\n",
       "    </tr>\n",
       "    <tr>\n",
       "      <th>31663</th>\n",
       "      <td>ÊPhillip Gast</td>\n",
       "      <td>0</td>\n",
       "    </tr>\n",
       "  </tbody>\n",
       "</table>\n",
       "<p>31664 rows × 2 columns</p>\n",
       "</div>"
      ],
      "text/plain": [
       "                                                sentence  causal\n",
       "0      the cause of death was asthma and old age whic...       1\n",
       "1      We report the case of a young HIV seropositive...       0\n",
       "2      Ocular examinations revealed intraocular press...       0\n",
       "3      It was concluded that ANCA is closely related ...       1\n",
       "4              ÊNot a Tesla or BMW, but it does the job.       0\n",
       "...                                                  ...     ...\n",
       "31659         disinterred and reburied in israel in 1953       0\n",
       "31660  We observed an unexpectedly rapid rise in plat...       0\n",
       "31661  Laboratory studies yielded substantially incre...       0\n",
       "31662  ÊVolatility/PI Stock volatility is a percentag...       0\n",
       "31663                                      ÊPhillip Gast       0\n",
       "\n",
       "[31664 rows x 2 columns]"
      ]
     },
     "execution_count": 4,
     "metadata": {},
     "output_type": "execute_result"
    }
   ],
   "source": [
    "train_dataset"
   ]
  },
  {
   "cell_type": "code",
   "execution_count": 5,
   "id": "90b0a894-2afc-409f-8a75-cf0180fb7969",
   "metadata": {},
   "outputs": [
    {
     "data": {
      "text/plain": [
       "(31664, 2)"
      ]
     },
     "execution_count": 5,
     "metadata": {},
     "output_type": "execute_result"
    }
   ],
   "source": [
    "train_dataset.shape"
   ]
  },
  {
   "cell_type": "code",
   "execution_count": 6,
   "id": "e7b2199c-a6c0-4b3a-b652-97cbd823c6aa",
   "metadata": {},
   "outputs": [],
   "source": [
    "#train_dataset.to_csv(\"train_all_causal.csv\")"
   ]
  },
  {
   "cell_type": "code",
   "execution_count": 7,
   "id": "e4e22bc3-91e6-481d-9a8f-028733458809",
   "metadata": {},
   "outputs": [
    {
     "data": {
      "text/html": [
       "<div>\n",
       "<style scoped>\n",
       "    .dataframe tbody tr th:only-of-type {\n",
       "        vertical-align: middle;\n",
       "    }\n",
       "\n",
       "    .dataframe tbody tr th {\n",
       "        vertical-align: top;\n",
       "    }\n",
       "\n",
       "    .dataframe thead th {\n",
       "        text-align: right;\n",
       "    }\n",
       "</style>\n",
       "<table border=\"1\" class=\"dataframe\">\n",
       "  <thead>\n",
       "    <tr style=\"text-align: right;\">\n",
       "      <th></th>\n",
       "      <th>Unnamed: 0</th>\n",
       "      <th>sentence</th>\n",
       "      <th>causal</th>\n",
       "    </tr>\n",
       "  </thead>\n",
       "  <tbody>\n",
       "    <tr>\n",
       "      <th>0</th>\n",
       "      <td>26279</td>\n",
       "      <td>Ten of them were given the agent while the fem...</td>\n",
       "      <td>0</td>\n",
       "    </tr>\n",
       "    <tr>\n",
       "      <th>1</th>\n",
       "      <td>10427</td>\n",
       "      <td>ÊCRR members also collaborate with clinical co...</td>\n",
       "      <td>0</td>\n",
       "    </tr>\n",
       "    <tr>\n",
       "      <th>2</th>\n",
       "      <td>28739</td>\n",
       "      <td>A 10.5-year-old, castrated male shih tzu was p...</td>\n",
       "      <td>0</td>\n",
       "    </tr>\n",
       "    <tr>\n",
       "      <th>3</th>\n",
       "      <td>17477</td>\n",
       "      <td>ÊThe commercial drivers of insurance value and...</td>\n",
       "      <td>0</td>\n",
       "    </tr>\n",
       "    <tr>\n",
       "      <th>4</th>\n",
       "      <td>7859</td>\n",
       "      <td>zoft stress gum comes to the rescue with a com...</td>\n",
       "      <td>1</td>\n",
       "    </tr>\n",
       "    <tr>\n",
       "      <th>...</th>\n",
       "      <td>...</td>\n",
       "      <td>...</td>\n",
       "      <td>...</td>\n",
       "    </tr>\n",
       "    <tr>\n",
       "      <th>13567</th>\n",
       "      <td>18726</td>\n",
       "      <td>ÊAlthough these things can happen along the wa...</td>\n",
       "      <td>0</td>\n",
       "    </tr>\n",
       "    <tr>\n",
       "      <th>13568</th>\n",
       "      <td>11958</td>\n",
       "      <td>ÊSuccess Rates Computed on a FY basis, success...</td>\n",
       "      <td>0</td>\n",
       "    </tr>\n",
       "    <tr>\n",
       "      <th>13569</th>\n",
       "      <td>5123</td>\n",
       "      <td>since 1958 it has held an annual lecture serie...</td>\n",
       "      <td>0</td>\n",
       "    </tr>\n",
       "    <tr>\n",
       "      <th>13570</th>\n",
       "      <td>18340</td>\n",
       "      <td>- - Gross Revenue - Price/Sales Ratio - Net In...</td>\n",
       "      <td>0</td>\n",
       "    </tr>\n",
       "    <tr>\n",
       "      <th>13571</th>\n",
       "      <td>563</td>\n",
       "      <td>chapter 2 examines civil liability for damage ...</td>\n",
       "      <td>1</td>\n",
       "    </tr>\n",
       "  </tbody>\n",
       "</table>\n",
       "<p>13572 rows × 3 columns</p>\n",
       "</div>"
      ],
      "text/plain": [
       "       Unnamed: 0                                           sentence  causal\n",
       "0           26279  Ten of them were given the agent while the fem...       0\n",
       "1           10427  ÊCRR members also collaborate with clinical co...       0\n",
       "2           28739  A 10.5-year-old, castrated male shih tzu was p...       0\n",
       "3           17477  ÊThe commercial drivers of insurance value and...       0\n",
       "4            7859  zoft stress gum comes to the rescue with a com...       1\n",
       "...           ...                                                ...     ...\n",
       "13567       18726  ÊAlthough these things can happen along the wa...       0\n",
       "13568       11958  ÊSuccess Rates Computed on a FY basis, success...       0\n",
       "13569        5123  since 1958 it has held an annual lecture serie...       0\n",
       "13570       18340  - - Gross Revenue - Price/Sales Ratio - Net In...       0\n",
       "13571         563  chapter 2 examines civil liability for damage ...       1\n",
       "\n",
       "[13572 rows x 3 columns]"
      ]
     },
     "execution_count": 7,
     "metadata": {},
     "output_type": "execute_result"
    }
   ],
   "source": [
    "test_dataset"
   ]
  },
  {
   "cell_type": "code",
   "execution_count": 8,
   "id": "53b92f20-1321-4c8f-9da8-2d74a67a2025",
   "metadata": {},
   "outputs": [],
   "source": [
    "test_dataset.drop(\"Unnamed: 0\", axis=1, inplace=True)"
   ]
  },
  {
   "cell_type": "code",
   "execution_count": 9,
   "id": "b726ee77-876a-4e55-8bfd-42fcc8d810f9",
   "metadata": {},
   "outputs": [
    {
     "data": {
      "text/html": [
       "<div>\n",
       "<style scoped>\n",
       "    .dataframe tbody tr th:only-of-type {\n",
       "        vertical-align: middle;\n",
       "    }\n",
       "\n",
       "    .dataframe tbody tr th {\n",
       "        vertical-align: top;\n",
       "    }\n",
       "\n",
       "    .dataframe thead th {\n",
       "        text-align: right;\n",
       "    }\n",
       "</style>\n",
       "<table border=\"1\" class=\"dataframe\">\n",
       "  <thead>\n",
       "    <tr style=\"text-align: right;\">\n",
       "      <th></th>\n",
       "      <th>sentence</th>\n",
       "      <th>causal</th>\n",
       "    </tr>\n",
       "  </thead>\n",
       "  <tbody>\n",
       "    <tr>\n",
       "      <th>0</th>\n",
       "      <td>Ten of them were given the agent while the fem...</td>\n",
       "      <td>0</td>\n",
       "    </tr>\n",
       "    <tr>\n",
       "      <th>1</th>\n",
       "      <td>ÊCRR members also collaborate with clinical co...</td>\n",
       "      <td>0</td>\n",
       "    </tr>\n",
       "    <tr>\n",
       "      <th>2</th>\n",
       "      <td>A 10.5-year-old, castrated male shih tzu was p...</td>\n",
       "      <td>0</td>\n",
       "    </tr>\n",
       "    <tr>\n",
       "      <th>3</th>\n",
       "      <td>ÊThe commercial drivers of insurance value and...</td>\n",
       "      <td>0</td>\n",
       "    </tr>\n",
       "    <tr>\n",
       "      <th>4</th>\n",
       "      <td>zoft stress gum comes to the rescue with a com...</td>\n",
       "      <td>1</td>\n",
       "    </tr>\n",
       "    <tr>\n",
       "      <th>...</th>\n",
       "      <td>...</td>\n",
       "      <td>...</td>\n",
       "    </tr>\n",
       "    <tr>\n",
       "      <th>13567</th>\n",
       "      <td>ÊAlthough these things can happen along the wa...</td>\n",
       "      <td>0</td>\n",
       "    </tr>\n",
       "    <tr>\n",
       "      <th>13568</th>\n",
       "      <td>ÊSuccess Rates Computed on a FY basis, success...</td>\n",
       "      <td>0</td>\n",
       "    </tr>\n",
       "    <tr>\n",
       "      <th>13569</th>\n",
       "      <td>since 1958 it has held an annual lecture serie...</td>\n",
       "      <td>0</td>\n",
       "    </tr>\n",
       "    <tr>\n",
       "      <th>13570</th>\n",
       "      <td>- - Gross Revenue - Price/Sales Ratio - Net In...</td>\n",
       "      <td>0</td>\n",
       "    </tr>\n",
       "    <tr>\n",
       "      <th>13571</th>\n",
       "      <td>chapter 2 examines civil liability for damage ...</td>\n",
       "      <td>1</td>\n",
       "    </tr>\n",
       "  </tbody>\n",
       "</table>\n",
       "<p>13572 rows × 2 columns</p>\n",
       "</div>"
      ],
      "text/plain": [
       "                                                sentence  causal\n",
       "0      Ten of them were given the agent while the fem...       0\n",
       "1      ÊCRR members also collaborate with clinical co...       0\n",
       "2      A 10.5-year-old, castrated male shih tzu was p...       0\n",
       "3      ÊThe commercial drivers of insurance value and...       0\n",
       "4      zoft stress gum comes to the rescue with a com...       1\n",
       "...                                                  ...     ...\n",
       "13567  ÊAlthough these things can happen along the wa...       0\n",
       "13568  ÊSuccess Rates Computed on a FY basis, success...       0\n",
       "13569  since 1958 it has held an annual lecture serie...       0\n",
       "13570  - - Gross Revenue - Price/Sales Ratio - Net In...       0\n",
       "13571  chapter 2 examines civil liability for damage ...       1\n",
       "\n",
       "[13572 rows x 2 columns]"
      ]
     },
     "execution_count": 9,
     "metadata": {},
     "output_type": "execute_result"
    }
   ],
   "source": [
    "test_dataset"
   ]
  },
  {
   "cell_type": "code",
   "execution_count": 10,
   "id": "e41a42bf-e645-495f-b83d-9ab26fd1d96a",
   "metadata": {},
   "outputs": [
    {
     "data": {
      "text/plain": [
       "(13572, 2)"
      ]
     },
     "execution_count": 10,
     "metadata": {},
     "output_type": "execute_result"
    }
   ],
   "source": [
    "test_dataset.shape"
   ]
  },
  {
   "cell_type": "code",
   "execution_count": 36,
   "id": "90a442ad-773c-463e-a54b-aff75c327bc3",
   "metadata": {},
   "outputs": [],
   "source": [
    "test_dataset.dropna(subset=['sentence'], inplace=True)"
   ]
  },
  {
   "cell_type": "code",
   "execution_count": 37,
   "id": "e395ce99-e0c7-40ab-93de-ad676348907d",
   "metadata": {},
   "outputs": [
    {
     "data": {
      "text/html": [
       "<div>\n",
       "<style scoped>\n",
       "    .dataframe tbody tr th:only-of-type {\n",
       "        vertical-align: middle;\n",
       "    }\n",
       "\n",
       "    .dataframe tbody tr th {\n",
       "        vertical-align: top;\n",
       "    }\n",
       "\n",
       "    .dataframe thead th {\n",
       "        text-align: right;\n",
       "    }\n",
       "</style>\n",
       "<table border=\"1\" class=\"dataframe\">\n",
       "  <thead>\n",
       "    <tr style=\"text-align: right;\">\n",
       "      <th></th>\n",
       "      <th>sentence</th>\n",
       "      <th>causal</th>\n",
       "    </tr>\n",
       "  </thead>\n",
       "  <tbody>\n",
       "    <tr>\n",
       "      <th>0</th>\n",
       "      <td>Ten of them were given the agent while the fem...</td>\n",
       "      <td>0</td>\n",
       "    </tr>\n",
       "    <tr>\n",
       "      <th>1</th>\n",
       "      <td>ÊCRR members also collaborate with clinical co...</td>\n",
       "      <td>0</td>\n",
       "    </tr>\n",
       "    <tr>\n",
       "      <th>2</th>\n",
       "      <td>A 10.5-year-old, castrated male shih tzu was p...</td>\n",
       "      <td>0</td>\n",
       "    </tr>\n",
       "    <tr>\n",
       "      <th>3</th>\n",
       "      <td>ÊThe commercial drivers of insurance value and...</td>\n",
       "      <td>0</td>\n",
       "    </tr>\n",
       "    <tr>\n",
       "      <th>4</th>\n",
       "      <td>zoft stress gum comes to the rescue with a com...</td>\n",
       "      <td>1</td>\n",
       "    </tr>\n",
       "    <tr>\n",
       "      <th>...</th>\n",
       "      <td>...</td>\n",
       "      <td>...</td>\n",
       "    </tr>\n",
       "    <tr>\n",
       "      <th>13567</th>\n",
       "      <td>ÊAlthough these things can happen along the wa...</td>\n",
       "      <td>0</td>\n",
       "    </tr>\n",
       "    <tr>\n",
       "      <th>13568</th>\n",
       "      <td>ÊSuccess Rates Computed on a FY basis, success...</td>\n",
       "      <td>0</td>\n",
       "    </tr>\n",
       "    <tr>\n",
       "      <th>13569</th>\n",
       "      <td>since 1958 it has held an annual lecture serie...</td>\n",
       "      <td>0</td>\n",
       "    </tr>\n",
       "    <tr>\n",
       "      <th>13570</th>\n",
       "      <td>- - Gross Revenue - Price/Sales Ratio - Net In...</td>\n",
       "      <td>0</td>\n",
       "    </tr>\n",
       "    <tr>\n",
       "      <th>13571</th>\n",
       "      <td>chapter 2 examines civil liability for damage ...</td>\n",
       "      <td>1</td>\n",
       "    </tr>\n",
       "  </tbody>\n",
       "</table>\n",
       "<p>13571 rows × 2 columns</p>\n",
       "</div>"
      ],
      "text/plain": [
       "                                                sentence  causal\n",
       "0      Ten of them were given the agent while the fem...       0\n",
       "1      ÊCRR members also collaborate with clinical co...       0\n",
       "2      A 10.5-year-old, castrated male shih tzu was p...       0\n",
       "3      ÊThe commercial drivers of insurance value and...       0\n",
       "4      zoft stress gum comes to the rescue with a com...       1\n",
       "...                                                  ...     ...\n",
       "13567  ÊAlthough these things can happen along the wa...       0\n",
       "13568  ÊSuccess Rates Computed on a FY basis, success...       0\n",
       "13569  since 1958 it has held an annual lecture serie...       0\n",
       "13570  - - Gross Revenue - Price/Sales Ratio - Net In...       0\n",
       "13571  chapter 2 examines civil liability for damage ...       1\n",
       "\n",
       "[13571 rows x 2 columns]"
      ]
     },
     "execution_count": 37,
     "metadata": {},
     "output_type": "execute_result"
    }
   ],
   "source": [
    "test_dataset"
   ]
  },
  {
   "cell_type": "code",
   "execution_count": 11,
   "id": "e79cfdc7-c6cb-49b5-a61b-aa34e59fb798",
   "metadata": {},
   "outputs": [],
   "source": [
    "#test_dataset.to_csv(\"test_all_causal.csv\")"
   ]
  },
  {
   "cell_type": "code",
   "execution_count": 12,
   "id": "76a9db89-2411-4eb0-b5e6-0851a5b8a828",
   "metadata": {},
   "outputs": [
    {
     "data": {
      "text/plain": [
       "1"
      ]
     },
     "execution_count": 12,
     "metadata": {},
     "output_type": "execute_result"
    }
   ],
   "source": [
    "test_dataset['sentence'].isnull().sum()"
   ]
  },
  {
   "cell_type": "code",
   "execution_count": 13,
   "id": "ee1bf689-326d-404e-ae73-f1e7dc9e5f1e",
   "metadata": {},
   "outputs": [
    {
     "data": {
      "text/plain": [
       "2"
      ]
     },
     "execution_count": 13,
     "metadata": {},
     "output_type": "execute_result"
    }
   ],
   "source": [
    "train_dataset['sentence'].isnull().sum()"
   ]
  },
  {
   "cell_type": "code",
   "execution_count": 14,
   "id": "5fce5009-77f5-4a11-b917-9713ca6e5dc3",
   "metadata": {},
   "outputs": [
    {
     "name": "stdout",
     "output_type": "stream",
     "text": [
      "Index([1046, 17235], dtype='int64')\n"
     ]
    }
   ],
   "source": [
    "null_mask = train_dataset['sentence'].isnull()\n",
    "\n",
    "null_indices = train_dataset[null_mask].index\n",
    "\n",
    "print(null_indices)"
   ]
  },
  {
   "cell_type": "code",
   "execution_count": 15,
   "id": "286b503c-66b6-40c2-9e92-d932173473fe",
   "metadata": {},
   "outputs": [
    {
     "name": "stdout",
     "output_type": "stream",
     "text": [
      "Index([13162], dtype='int64')\n"
     ]
    }
   ],
   "source": [
    "null_mask = test_dataset['sentence'].isnull()\n",
    "\n",
    "null_indices = test_dataset[null_mask].index\n",
    "\n",
    "print(null_indices)"
   ]
  },
  {
   "cell_type": "code",
   "execution_count": 16,
   "id": "7009d6ee-43f1-4940-9ec9-9218c9666ab9",
   "metadata": {},
   "outputs": [],
   "source": [
    "#practice code"
   ]
  },
  {
   "cell_type": "code",
   "execution_count": 17,
   "id": "9527533d-6639-4689-b92e-74c1ae89ce1c",
   "metadata": {},
   "outputs": [],
   "source": [
    "vocab = {'woodsmith',\n",
    " 'each',\n",
    " 'translit',\n",
    " 'southwick',\n",
    " 'circles',\n",
    " 'dairy',\n",
    " 'felbamate',\n",
    " 'temples',\n",
    " 'stripe',\n",
    " 'east',\n",
    " 'ffabdu'}"
   ]
  },
  {
   "cell_type": "code",
   "execution_count": 18,
   "id": "94e8f411-f2eb-4a32-bdd0-bd216b995be3",
   "metadata": {},
   "outputs": [],
   "source": [
    "word2idx={'woodsmith': 0,\n",
    " 'each': 1,\n",
    " 'translit': 2,\n",
    " 'southwick': 3,\n",
    " 'circles': 4,\n",
    " 'dairy': 5,\n",
    " 'felbamate': 6,\n",
    " 'temples': 7,\n",
    " 'stripe': 8,\n",
    " 'east': 9,\n",
    " 'ffabdu': 10}"
   ]
  },
  {
   "cell_type": "code",
   "execution_count": 19,
   "id": "50d250a2-072d-407f-9198-a8b5a4e70bdc",
   "metadata": {},
   "outputs": [],
   "source": [
    "def prepare_sequence(seq, to_idx):  \n",
    "    idxs = [to_idx[w] for w in seq]\n",
    "    idxs = np.array(idxs)\n",
    "    output_idxs = torch.from_numpy(idxs)\n",
    "    output_idxs = output_idxs.type(torch.LongTensor).cuda()  \n",
    "    return output_idxs"
   ]
  },
  {
   "cell_type": "code",
   "execution_count": 20,
   "id": "c8e7d5ff-027e-4550-b6c6-4f50dd444740",
   "metadata": {},
   "outputs": [],
   "source": [
    "idxs = [word2idx[w] for w in vocab]"
   ]
  },
  {
   "cell_type": "code",
   "execution_count": 21,
   "id": "031653ed-8248-473f-ad5a-9961c86f6a2e",
   "metadata": {},
   "outputs": [
    {
     "data": {
      "text/plain": [
       "[6, 0, 1, 9, 3, 7, 8, 10, 5, 2, 4]"
      ]
     },
     "execution_count": 21,
     "metadata": {},
     "output_type": "execute_result"
    }
   ],
   "source": [
    "idxs"
   ]
  },
  {
   "cell_type": "code",
   "execution_count": 22,
   "id": "0ae5bf07-9328-4a80-bf12-d31bfc88b42b",
   "metadata": {},
   "outputs": [
    {
     "data": {
      "text/plain": [
       "list"
      ]
     },
     "execution_count": 22,
     "metadata": {},
     "output_type": "execute_result"
    }
   ],
   "source": [
    "type(idxs)"
   ]
  },
  {
   "cell_type": "code",
   "execution_count": 23,
   "id": "b69fb334-97d9-4640-8d9c-9b2a51336c7c",
   "metadata": {},
   "outputs": [
    {
     "name": "stdout",
     "output_type": "stream",
     "text": [
      "felbamate\n",
      "woodsmith\n",
      "each\n",
      "east\n",
      "southwick\n",
      "temples\n",
      "stripe\n",
      "ffabdu\n",
      "dairy\n",
      "translit\n",
      "circles\n"
     ]
    }
   ],
   "source": [
    "for w in vocab:\n",
    "    print(w)"
   ]
  },
  {
   "cell_type": "code",
   "execution_count": 24,
   "id": "0e155da3-ec3f-454d-ac2a-23940e186061",
   "metadata": {},
   "outputs": [
    {
     "data": {
      "text/plain": [
       "1"
      ]
     },
     "execution_count": 24,
     "metadata": {},
     "output_type": "execute_result"
    }
   ],
   "source": [
    "word2idx['each']"
   ]
  },
  {
   "cell_type": "code",
   "execution_count": 25,
   "id": "758dacf7-517a-494b-86d1-ef3dc71e8c6c",
   "metadata": {},
   "outputs": [],
   "source": [
    "import numpy as np\n",
    "idxs = np.array(idxs) #converting  list into numpy"
   ]
  },
  {
   "cell_type": "code",
   "execution_count": 26,
   "id": "12cee876-19c5-4161-82a5-3e1ce9b01bae",
   "metadata": {},
   "outputs": [
    {
     "data": {
      "text/plain": [
       "array([ 6,  0,  1,  9,  3,  7,  8, 10,  5,  2,  4])"
      ]
     },
     "execution_count": 26,
     "metadata": {},
     "output_type": "execute_result"
    }
   ],
   "source": [
    "idxs"
   ]
  },
  {
   "cell_type": "code",
   "execution_count": 27,
   "id": "2e35d8cb-e055-4f27-a3f7-24732566be08",
   "metadata": {},
   "outputs": [
    {
     "data": {
      "text/plain": [
       "numpy.ndarray"
      ]
     },
     "execution_count": 27,
     "metadata": {},
     "output_type": "execute_result"
    }
   ],
   "source": [
    "type(idxs)"
   ]
  },
  {
   "cell_type": "code",
   "execution_count": 28,
   "id": "e17d9658-0ecd-465c-b0df-83f7adb0e696",
   "metadata": {},
   "outputs": [],
   "source": [
    "import torch"
   ]
  },
  {
   "cell_type": "code",
   "execution_count": 29,
   "id": "819c84b7-854b-4bec-b44e-4549ec6e3598",
   "metadata": {},
   "outputs": [],
   "source": [
    "output_idxs = torch.from_numpy(idxs)"
   ]
  },
  {
   "cell_type": "code",
   "execution_count": 30,
   "id": "170712ae-e3ab-4e47-bf50-11a8fdda32f1",
   "metadata": {},
   "outputs": [
    {
     "data": {
      "text/plain": [
       "tensor([ 6,  0,  1,  9,  3,  7,  8, 10,  5,  2,  4])"
      ]
     },
     "execution_count": 30,
     "metadata": {},
     "output_type": "execute_result"
    }
   ],
   "source": [
    "output_idxs"
   ]
  },
  {
   "cell_type": "code",
   "execution_count": 31,
   "id": "86c26270-3fbe-4981-946d-e8468908cff7",
   "metadata": {},
   "outputs": [
    {
     "data": {
      "text/plain": [
       "torch.Tensor"
      ]
     },
     "execution_count": 31,
     "metadata": {},
     "output_type": "execute_result"
    }
   ],
   "source": [
    "type(output_idxs)"
   ]
  },
  {
   "cell_type": "code",
   "execution_count": 32,
   "id": "0915ee99-8eb9-47c4-8cc0-f74ea60494d2",
   "metadata": {},
   "outputs": [],
   "source": [
    "output_idxs = output_idxs.type(torch.LongTensor).cuda()  "
   ]
  },
  {
   "cell_type": "code",
   "execution_count": 33,
   "id": "7fce316d-46bd-4e61-80f1-c1880962afba",
   "metadata": {},
   "outputs": [
    {
     "data": {
      "text/plain": [
       "tensor([ 6,  0,  1,  9,  3,  7,  8, 10,  5,  2,  4], device='cuda:0')"
      ]
     },
     "execution_count": 33,
     "metadata": {},
     "output_type": "execute_result"
    }
   ],
   "source": [
    "output_idxs"
   ]
  },
  {
   "cell_type": "code",
   "execution_count": 34,
   "id": "0e7f9ab6-85e1-4b0e-8b75-a0849c28c5ba",
   "metadata": {},
   "outputs": [
    {
     "data": {
      "text/plain": [
       "torch.Tensor"
      ]
     },
     "execution_count": 34,
     "metadata": {},
     "output_type": "execute_result"
    }
   ],
   "source": [
    "type(output_idxs)"
   ]
  },
  {
   "cell_type": "code",
   "execution_count": null,
   "id": "884abe2c-dd6f-4734-93cc-6dac9f1a66f8",
   "metadata": {},
   "outputs": [],
   "source": []
  }
 ],
 "metadata": {
  "kernelspec": {
   "display_name": "Python 3 (ipykernel)",
   "language": "python",
   "name": "python3"
  },
  "language_info": {
   "codemirror_mode": {
    "name": "ipython",
    "version": 3
   },
   "file_extension": ".py",
   "mimetype": "text/x-python",
   "name": "python",
   "nbconvert_exporter": "python",
   "pygments_lexer": "ipython3",
   "version": "3.10.12"
  }
 },
 "nbformat": 4,
 "nbformat_minor": 5
}
